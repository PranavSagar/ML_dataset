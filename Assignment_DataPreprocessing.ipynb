{
  "nbformat": 4,
  "nbformat_minor": 0,
  "metadata": {
    "colab": {
      "name": "Assignment_DataPreprocessing.ipynb",
      "provenance": [],
      "collapsed_sections": []
    },
    "kernelspec": {
      "name": "python3",
      "display_name": "Python 3"
    },
    "language_info": {
      "name": "python"
    }
  },
  "cells": [
    {
      "cell_type": "code",
      "execution_count": null,
      "metadata": {
        "id": "L6WLRcLID6yL"
      },
      "outputs": [],
      "source": [
        "https://raw.githubusercontent.com/PranavSagar/ML_dataset/main/Salaries.csv"
      ]
    },
    {
      "cell_type": "code",
      "source": [
        "import pandas as pd\n",
        "import numpy as np"
      ],
      "metadata": {
        "id": "7Q7dLUhsERu9"
      },
      "execution_count": null,
      "outputs": []
    },
    {
      "cell_type": "code",
      "source": [
        "#raw file link from github\n",
        "url = 'https://raw.githubusercontent.com/PranavSagar/ML_dataset/main/Salaries.csv'"
      ],
      "metadata": {
        "id": "vhV3OIBEEaLQ"
      },
      "execution_count": null,
      "outputs": []
    },
    {
      "cell_type": "code",
      "source": [
        "#importing csv file\n",
        "df = pd.read_csv(url)"
      ],
      "metadata": {
        "id": "Bsnzaa3tEtGP"
      },
      "execution_count": null,
      "outputs": []
    },
    {
      "cell_type": "code",
      "source": [
        "print(df.shape)\n",
        "print(df.size)"
      ],
      "metadata": {
        "colab": {
          "base_uri": "https://localhost:8080/"
        },
        "id": "D4NmkRQgExSC",
        "outputId": "3b137bf6-4618-4812-ccf4-244ceec39e37"
      },
      "execution_count": null,
      "outputs": [
        {
          "output_type": "stream",
          "name": "stdout",
          "text": [
            "(78, 6)\n",
            "468\n"
          ]
        }
      ]
    },
    {
      "cell_type": "code",
      "source": [
        "print(df.info)"
      ],
      "metadata": {
        "colab": {
          "base_uri": "https://localhost:8080/"
        },
        "id": "81NtrJDFE4dZ",
        "outputId": "14f0a264-47e5-499d-c27c-44e1d68ff412"
      },
      "execution_count": null,
      "outputs": [
        {
          "output_type": "stream",
          "name": "stdout",
          "text": [
            "<bound method DataFrame.info of          rank discipline   phd  service     sex  salary\n",
            "0        Prof          B  56.0     49.0    Male  186960\n",
            "1        Prof          A  12.0      6.0    Male   93000\n",
            "2        Prof          A  23.0     20.0    Male  110515\n",
            "3        Prof          A  40.0     31.0    Male  131205\n",
            "4        Prof          B  20.0     18.0    Male  104800\n",
            "..        ...        ...   ...      ...     ...     ...\n",
            "73       Prof          B  18.0     10.0  Female  105450\n",
            "74  AssocProf          B  19.0      6.0  Female  104542\n",
            "75       Prof          B  17.0     17.0  Female  124312\n",
            "76       Prof          A  28.0     14.0  Female  109954\n",
            "77       Prof          A  23.0     15.0  Female  109646\n",
            "\n",
            "[78 rows x 6 columns]>\n"
          ]
        }
      ]
    },
    {
      "cell_type": "code",
      "source": [
        "x=df.iloc[:,:-1].values\n",
        "print(x)"
      ],
      "metadata": {
        "colab": {
          "base_uri": "https://localhost:8080/"
        },
        "id": "2drdNl2WE8Xa",
        "outputId": "24d99c99-9300-41e0-fd79-fc701e227d8a"
      },
      "execution_count": null,
      "outputs": [
        {
          "output_type": "stream",
          "name": "stdout",
          "text": [
            "[['Prof' 'B' 56.0 49.0 'Male']\n",
            " ['Prof' 'A' 12.0 6.0 'Male']\n",
            " ['Prof' 'A' 23.0 20.0 'Male']\n",
            " ['Prof' 'A' 40.0 31.0 'Male']\n",
            " ['Prof' 'B' 20.0 18.0 'Male']\n",
            " ['Prof' 'A' 20.0 20.0 'Male']\n",
            " ['AssocProf' 'A' 20.0 17.0 'Male']\n",
            " ['Prof' 'A' 18.0 18.0 'Male']\n",
            " ['Prof' 'A' 29.0 19.0 'Male']\n",
            " ['Prof' 'A' 51.0 51.0 'Male']\n",
            " ['Prof' 'B' nan 33.0 'Male']\n",
            " ['Prof' 'B' 23.0 23.0 'Male']\n",
            " ['AsstProf' 'B' 1.0 0.0 'Male']\n",
            " ['Prof' 'B' 35.0 33.0 'Male']\n",
            " ['Prof' 'B' 25.0 19.0 'Male']\n",
            " ['Prof' 'B' 17.0 nan 'Male']\n",
            " ['AsstProf' 'B' 8.0 3.0 'Male']\n",
            " ['AsstProf' 'B' 4.0 0.0 nan]\n",
            " ['Prof' 'A' 19.0 7.0 'Male']\n",
            " ['Prof' 'A' nan 27.0 'Male']\n",
            " ['AsstProf' 'B' 4.0 4.0 'Male']\n",
            " ['Prof' nan 33.0 30.0 'Male']\n",
            " ['AsstProf' 'A' 4.0 2.0 'Male']\n",
            " ['AsstProf' 'A' 2.0 0.0 'Male']\n",
            " [nan 'A' 30.0 23.0 'Male']\n",
            " ['Prof' 'B' 35.0 31.0 'Male']\n",
            " ['Prof' 'A' 38.0 19.0 'Male']\n",
            " ['Prof' 'A' 45.0 43.0 'Male']\n",
            " ['AsstProf' nan 7.0 2.0 'Male']\n",
            " ['Prof' 'B' 21.0 20.0 'Male']\n",
            " ['AssocProf' 'B' 9.0 7.0 'Male']\n",
            " ['Prof' 'B' 22.0 21.0 'Male']\n",
            " ['Prof' nan 27.0 19.0 'Male']\n",
            " ['Prof' 'B' 18.0 18.0 'Male']\n",
            " [nan 'B' 12.0 8.0 'Male']\n",
            " ['Prof' 'B' 28.0 23.0 'Male']\n",
            " ['Prof' 'B' 45.0 45.0 'Male']\n",
            " ['Prof' 'A' 20.0 8.0 'Male']\n",
            " ['AsstProf' 'B' 4.0 3.0 'Male']\n",
            " [nan 'B' 18.0 18.0 'Female']\n",
            " ['Prof' 'A' 39.0 36.0 'Female']\n",
            " ['AssocProf' 'A' 13.0 8.0 'Female']\n",
            " [nan 'B' 4.0 2.0 'Female']\n",
            " ['AsstProf' 'B' 5.0 0.0 'Female']\n",
            " ['Prof' 'B' 23.0 19.0 'Female']\n",
            " ['Prof' 'B' 25.0 25.0 'Female']\n",
            " ['AsstProf' 'B' 11.0 3.0 'Female']\n",
            " ['AssocProf' 'B' 11.0 11.0 'Female']\n",
            " ['Prof' 'B' 17.0 17.0 'Female']\n",
            " ['Prof' 'B' 17.0 18.0 'Female']\n",
            " ['AsstProf' 'B' 10.0 5.0 'Female']\n",
            " ['Prof' 'B' 20.0 14.0 'Female']\n",
            " ['Prof' 'A' 12.0 0.0 'Female']\n",
            " ['AsstProf' 'A' 5.0 3.0 'Female']\n",
            " ['AssocProf' 'A' 25.0 22.0 'Female']\n",
            " ['AsstProf' 'A' 2.0 0.0 'Female']\n",
            " ['AssocProf' 'A' 10.0 8.0 'Female']\n",
            " ['AsstProf' 'A' 3.0 1.0 'Female']\n",
            " ['Prof' 'B' 36.0 26.0 'Female']\n",
            " ['AssocProf' 'B' 12.0 10.0 'Female']\n",
            " ['AsstProf' 'B' 3.0 3.0 'Female']\n",
            " ['AssocProf' 'B' 13.0 10.0 'Female']\n",
            " ['AssocProf' 'B' 14.0 7.0 'Female']\n",
            " ['Prof' 'A' 29.0 27.0 'Female']\n",
            " ['AssocProf' 'A' 26.0 24.0 'Female']\n",
            " ['Prof' 'A' 36.0 19.0 'Female']\n",
            " ['AsstProf' 'A' 7.0 6.0 'Female']\n",
            " ['Prof' 'A' 17.0 11.0 'Female']\n",
            " ['AsstProf' 'A' 4.0 2.0 'Female']\n",
            " ['Prof' 'A' 28.0 7.0 'Female']\n",
            " ['AsstProf' 'A' 8.0 3.0 'Female']\n",
            " ['AssocProf' 'B' 12.0 9.0 'Female']\n",
            " ['Prof' 'B' 24.0 15.0 'Female']\n",
            " ['Prof' 'B' 18.0 10.0 'Female']\n",
            " ['AssocProf' 'B' 19.0 6.0 'Female']\n",
            " ['Prof' 'B' 17.0 17.0 'Female']\n",
            " ['Prof' 'A' 28.0 14.0 'Female']\n",
            " ['Prof' 'A' 23.0 15.0 'Female']]\n"
          ]
        }
      ]
    },
    {
      "cell_type": "code",
      "source": [
        "y=df.iloc[:,5].values\n",
        "print(y)"
      ],
      "metadata": {
        "colab": {
          "base_uri": "https://localhost:8080/"
        },
        "id": "-CLIZVqNFFvh",
        "outputId": "cf8ab799-4f01-4c94-8801-51ff7296b32c"
      },
      "execution_count": null,
      "outputs": [
        {
          "output_type": "stream",
          "name": "stdout",
          "text": [
            "[186960  93000 110515 131205 104800 122400  81285 126300  94350  57800\n",
            " 128250 134778  88000 162200 153750 150480  75044  92000 107300 150500\n",
            "  92000 103106  73000  85000  91100  99418 148750 155865  91300 123683\n",
            " 107008 155750 103275 120000 119800 126933 146856 102000  91000 129000\n",
            " 137000  74830  80225  77000 151768 140096  74692 103613 111512 122960\n",
            "  97032 127512 105000  73500  62884  72500  77500  72500 144651 103994\n",
            "  92000 103750 109650  91000  73300 117555  63100  90450  77500 116450\n",
            "  78500  71065 161101 105450 104542 124312 109954 109646]\n"
          ]
        }
      ]
    },
    {
      "cell_type": "code",
      "source": [
        "class_count=df.groupby('sex').size()\n",
        "print(class_count)"
      ],
      "metadata": {
        "colab": {
          "base_uri": "https://localhost:8080/"
        },
        "id": "1uDaoBU3K5PD",
        "outputId": "33dc79e6-1284-4b68-804c-4ed23d06e0a6"
      },
      "execution_count": null,
      "outputs": [
        {
          "output_type": "stream",
          "name": "stdout",
          "text": [
            "sex\n",
            "Female    39\n",
            "Male      38\n",
            "dtype: int64\n"
          ]
        }
      ]
    },
    {
      "cell_type": "code",
      "source": [
        "correlation=df.corr(method='pearson')\n",
        "print(correlation)"
      ],
      "metadata": {
        "colab": {
          "base_uri": "https://localhost:8080/"
        },
        "id": "9Mm94idIFTZb",
        "outputId": "4a36d615-f4fb-44cd-e8ac-c693714d4184"
      },
      "execution_count": null,
      "outputs": [
        {
          "output_type": "stream",
          "name": "stdout",
          "text": [
            "              phd   service    salary\n",
            "phd      1.000000  0.928182  0.573382\n",
            "service  0.928182  1.000000  0.563814\n",
            "salary   0.573382  0.563814  1.000000\n"
          ]
        }
      ]
    },
    {
      "cell_type": "code",
      "source": [
        "df.describe()\n"
      ],
      "metadata": {
        "colab": {
          "base_uri": "https://localhost:8080/",
          "height": 300
        },
        "id": "RWBaUPOHF_A3",
        "outputId": "7b56659b-2370-40bd-ec99-35b0e601f0d3"
      },
      "execution_count": null,
      "outputs": [
        {
          "output_type": "execute_result",
          "data": {
            "text/html": [
              "\n",
              "  <div id=\"df-377db82a-dfe3-4b10-849b-463e06347d8e\">\n",
              "    <div class=\"colab-df-container\">\n",
              "      <div>\n",
              "<style scoped>\n",
              "    .dataframe tbody tr th:only-of-type {\n",
              "        vertical-align: middle;\n",
              "    }\n",
              "\n",
              "    .dataframe tbody tr th {\n",
              "        vertical-align: top;\n",
              "    }\n",
              "\n",
              "    .dataframe thead th {\n",
              "        text-align: right;\n",
              "    }\n",
              "</style>\n",
              "<table border=\"1\" class=\"dataframe\">\n",
              "  <thead>\n",
              "    <tr style=\"text-align: right;\">\n",
              "      <th></th>\n",
              "      <th>phd</th>\n",
              "      <th>service</th>\n",
              "      <th>salary</th>\n",
              "    </tr>\n",
              "  </thead>\n",
              "  <tbody>\n",
              "    <tr>\n",
              "      <th>count</th>\n",
              "      <td>76.000000</td>\n",
              "      <td>77.000000</td>\n",
              "      <td>78.000000</td>\n",
              "    </tr>\n",
              "    <tr>\n",
              "      <th>mean</th>\n",
              "      <td>19.328947</td>\n",
              "      <td>15.207792</td>\n",
              "      <td>108023.782051</td>\n",
              "    </tr>\n",
              "    <tr>\n",
              "      <th>std</th>\n",
              "      <td>12.414388</td>\n",
              "      <td>12.139906</td>\n",
              "      <td>28293.661022</td>\n",
              "    </tr>\n",
              "    <tr>\n",
              "      <th>min</th>\n",
              "      <td>1.000000</td>\n",
              "      <td>0.000000</td>\n",
              "      <td>57800.000000</td>\n",
              "    </tr>\n",
              "    <tr>\n",
              "      <th>25%</th>\n",
              "      <td>10.000000</td>\n",
              "      <td>6.000000</td>\n",
              "      <td>88612.500000</td>\n",
              "    </tr>\n",
              "    <tr>\n",
              "      <th>50%</th>\n",
              "      <td>18.000000</td>\n",
              "      <td>15.000000</td>\n",
              "      <td>104671.000000</td>\n",
              "    </tr>\n",
              "    <tr>\n",
              "      <th>75%</th>\n",
              "      <td>26.250000</td>\n",
              "      <td>21.000000</td>\n",
              "      <td>126774.750000</td>\n",
              "    </tr>\n",
              "    <tr>\n",
              "      <th>max</th>\n",
              "      <td>56.000000</td>\n",
              "      <td>51.000000</td>\n",
              "      <td>186960.000000</td>\n",
              "    </tr>\n",
              "  </tbody>\n",
              "</table>\n",
              "</div>\n",
              "      <button class=\"colab-df-convert\" onclick=\"convertToInteractive('df-377db82a-dfe3-4b10-849b-463e06347d8e')\"\n",
              "              title=\"Convert this dataframe to an interactive table.\"\n",
              "              style=\"display:none;\">\n",
              "        \n",
              "  <svg xmlns=\"http://www.w3.org/2000/svg\" height=\"24px\"viewBox=\"0 0 24 24\"\n",
              "       width=\"24px\">\n",
              "    <path d=\"M0 0h24v24H0V0z\" fill=\"none\"/>\n",
              "    <path d=\"M18.56 5.44l.94 2.06.94-2.06 2.06-.94-2.06-.94-.94-2.06-.94 2.06-2.06.94zm-11 1L8.5 8.5l.94-2.06 2.06-.94-2.06-.94L8.5 2.5l-.94 2.06-2.06.94zm10 10l.94 2.06.94-2.06 2.06-.94-2.06-.94-.94-2.06-.94 2.06-2.06.94z\"/><path d=\"M17.41 7.96l-1.37-1.37c-.4-.4-.92-.59-1.43-.59-.52 0-1.04.2-1.43.59L10.3 9.45l-7.72 7.72c-.78.78-.78 2.05 0 2.83L4 21.41c.39.39.9.59 1.41.59.51 0 1.02-.2 1.41-.59l7.78-7.78 2.81-2.81c.8-.78.8-2.07 0-2.86zM5.41 20L4 18.59l7.72-7.72 1.47 1.35L5.41 20z\"/>\n",
              "  </svg>\n",
              "      </button>\n",
              "      \n",
              "  <style>\n",
              "    .colab-df-container {\n",
              "      display:flex;\n",
              "      flex-wrap:wrap;\n",
              "      gap: 12px;\n",
              "    }\n",
              "\n",
              "    .colab-df-convert {\n",
              "      background-color: #E8F0FE;\n",
              "      border: none;\n",
              "      border-radius: 50%;\n",
              "      cursor: pointer;\n",
              "      display: none;\n",
              "      fill: #1967D2;\n",
              "      height: 32px;\n",
              "      padding: 0 0 0 0;\n",
              "      width: 32px;\n",
              "    }\n",
              "\n",
              "    .colab-df-convert:hover {\n",
              "      background-color: #E2EBFA;\n",
              "      box-shadow: 0px 1px 2px rgba(60, 64, 67, 0.3), 0px 1px 3px 1px rgba(60, 64, 67, 0.15);\n",
              "      fill: #174EA6;\n",
              "    }\n",
              "\n",
              "    [theme=dark] .colab-df-convert {\n",
              "      background-color: #3B4455;\n",
              "      fill: #D2E3FC;\n",
              "    }\n",
              "\n",
              "    [theme=dark] .colab-df-convert:hover {\n",
              "      background-color: #434B5C;\n",
              "      box-shadow: 0px 1px 3px 1px rgba(0, 0, 0, 0.15);\n",
              "      filter: drop-shadow(0px 1px 2px rgba(0, 0, 0, 0.3));\n",
              "      fill: #FFFFFF;\n",
              "    }\n",
              "  </style>\n",
              "\n",
              "      <script>\n",
              "        const buttonEl =\n",
              "          document.querySelector('#df-377db82a-dfe3-4b10-849b-463e06347d8e button.colab-df-convert');\n",
              "        buttonEl.style.display =\n",
              "          google.colab.kernel.accessAllowed ? 'block' : 'none';\n",
              "\n",
              "        async function convertToInteractive(key) {\n",
              "          const element = document.querySelector('#df-377db82a-dfe3-4b10-849b-463e06347d8e');\n",
              "          const dataTable =\n",
              "            await google.colab.kernel.invokeFunction('convertToInteractive',\n",
              "                                                     [key], {});\n",
              "          if (!dataTable) return;\n",
              "\n",
              "          const docLinkHtml = 'Like what you see? Visit the ' +\n",
              "            '<a target=\"_blank\" href=https://colab.research.google.com/notebooks/data_table.ipynb>data table notebook</a>'\n",
              "            + ' to learn more about interactive tables.';\n",
              "          element.innerHTML = '';\n",
              "          dataTable['output_type'] = 'display_data';\n",
              "          await google.colab.output.renderOutput(dataTable, element);\n",
              "          const docLink = document.createElement('div');\n",
              "          docLink.innerHTML = docLinkHtml;\n",
              "          element.appendChild(docLink);\n",
              "        }\n",
              "      </script>\n",
              "    </div>\n",
              "  </div>\n",
              "  "
            ],
            "text/plain": [
              "             phd    service         salary\n",
              "count  76.000000  77.000000      78.000000\n",
              "mean   19.328947  15.207792  108023.782051\n",
              "std    12.414388  12.139906   28293.661022\n",
              "min     1.000000   0.000000   57800.000000\n",
              "25%    10.000000   6.000000   88612.500000\n",
              "50%    18.000000  15.000000  104671.000000\n",
              "75%    26.250000  21.000000  126774.750000\n",
              "max    56.000000  51.000000  186960.000000"
            ]
          },
          "metadata": {},
          "execution_count": 14
        }
      ]
    },
    {
      "cell_type": "code",
      "source": [
        "from sklearn.impute import SimpleImputer"
      ],
      "metadata": {
        "id": "VoaeDbEHMi-O"
      },
      "execution_count": null,
      "outputs": []
    },
    {
      "cell_type": "code",
      "source": [
        "imputer=SimpleImputer(missing_values=np.nan,strategy='mean',fill_value=None,verbose=0)"
      ],
      "metadata": {
        "id": "_J0eG8J_Mxx2"
      },
      "execution_count": null,
      "outputs": []
    },
    {
      "cell_type": "code",
      "source": [
        "imputer=imputer.fit(x[:,2:4])"
      ],
      "metadata": {
        "id": "7dbP6Si0M5ab"
      },
      "execution_count": null,
      "outputs": []
    },
    {
      "cell_type": "code",
      "source": [
        "x[:,2:4]=imputer.transform(x[:,2:4])"
      ],
      "metadata": {
        "id": "MkOJljQRNPGL"
      },
      "execution_count": null,
      "outputs": []
    },
    {
      "cell_type": "code",
      "source": [
        "print(x)"
      ],
      "metadata": {
        "colab": {
          "base_uri": "https://localhost:8080/"
        },
        "id": "tojbtAqaNvjn",
        "outputId": "55941b0f-8b19-4875-a529-e9bd9a516d82"
      },
      "execution_count": null,
      "outputs": [
        {
          "output_type": "stream",
          "name": "stdout",
          "text": [
            "[['Prof' 'B' 56.0 49.0 'Male']\n",
            " ['Prof' 'A' 12.0 6.0 'Male']\n",
            " ['Prof' 'A' 23.0 20.0 'Male']\n",
            " ['Prof' 'A' 40.0 31.0 'Male']\n",
            " ['Prof' 'B' 20.0 18.0 'Male']\n",
            " ['Prof' 'A' 20.0 20.0 'Male']\n",
            " ['AssocProf' 'A' 20.0 17.0 'Male']\n",
            " ['Prof' 'A' 18.0 18.0 'Male']\n",
            " ['Prof' 'A' 29.0 19.0 'Male']\n",
            " ['Prof' 'A' 51.0 51.0 'Male']\n",
            " ['Prof' 'B' 19.32894736842105 33.0 'Male']\n",
            " ['Prof' 'B' 23.0 23.0 'Male']\n",
            " ['AsstProf' 'B' 1.0 0.0 'Male']\n",
            " ['Prof' 'B' 35.0 33.0 'Male']\n",
            " ['Prof' 'B' 25.0 19.0 'Male']\n",
            " ['Prof' 'B' 17.0 15.207792207792208 'Male']\n",
            " ['AsstProf' 'B' 8.0 3.0 'Male']\n",
            " ['AsstProf' 'B' 4.0 0.0 nan]\n",
            " ['Prof' 'A' 19.0 7.0 'Male']\n",
            " ['Prof' 'A' 19.32894736842105 27.0 'Male']\n",
            " ['AsstProf' 'B' 4.0 4.0 'Male']\n",
            " ['Prof' nan 33.0 30.0 'Male']\n",
            " ['AsstProf' 'A' 4.0 2.0 'Male']\n",
            " ['AsstProf' 'A' 2.0 0.0 'Male']\n",
            " ['0' 'A' 30.0 23.0 'Male']\n",
            " ['Prof' 'B' 35.0 31.0 'Male']\n",
            " ['Prof' 'A' 38.0 19.0 'Male']\n",
            " ['Prof' 'A' 45.0 43.0 'Male']\n",
            " ['AsstProf' nan 7.0 2.0 'Male']\n",
            " ['Prof' 'B' 21.0 20.0 'Male']\n",
            " ['AssocProf' 'B' 9.0 7.0 'Male']\n",
            " ['Prof' 'B' 22.0 21.0 'Male']\n",
            " ['Prof' nan 27.0 19.0 'Male']\n",
            " ['Prof' 'B' 18.0 18.0 'Male']\n",
            " ['0' 'B' 12.0 8.0 'Male']\n",
            " ['Prof' 'B' 28.0 23.0 'Male']\n",
            " ['Prof' 'B' 45.0 45.0 'Male']\n",
            " ['Prof' 'A' 20.0 8.0 'Male']\n",
            " ['AsstProf' 'B' 4.0 3.0 'Male']\n",
            " ['0' 'B' 18.0 18.0 'Female']\n",
            " ['Prof' 'A' 39.0 36.0 'Female']\n",
            " ['AssocProf' 'A' 13.0 8.0 'Female']\n",
            " ['0' 'B' 4.0 2.0 'Female']\n",
            " ['AsstProf' 'B' 5.0 0.0 'Female']\n",
            " ['Prof' 'B' 23.0 19.0 'Female']\n",
            " ['Prof' 'B' 25.0 25.0 'Female']\n",
            " ['AsstProf' 'B' 11.0 3.0 'Female']\n",
            " ['AssocProf' 'B' 11.0 11.0 'Female']\n",
            " ['Prof' 'B' 17.0 17.0 'Female']\n",
            " ['Prof' 'B' 17.0 18.0 'Female']\n",
            " ['AsstProf' 'B' 10.0 5.0 'Female']\n",
            " ['Prof' 'B' 20.0 14.0 'Female']\n",
            " ['Prof' 'A' 12.0 0.0 'Female']\n",
            " ['AsstProf' 'A' 5.0 3.0 'Female']\n",
            " ['AssocProf' 'A' 25.0 22.0 'Female']\n",
            " ['AsstProf' 'A' 2.0 0.0 'Female']\n",
            " ['AssocProf' 'A' 10.0 8.0 'Female']\n",
            " ['AsstProf' 'A' 3.0 1.0 'Female']\n",
            " ['Prof' 'B' 36.0 26.0 'Female']\n",
            " ['AssocProf' 'B' 12.0 10.0 'Female']\n",
            " ['AsstProf' 'B' 3.0 3.0 'Female']\n",
            " ['AssocProf' 'B' 13.0 10.0 'Female']\n",
            " ['AssocProf' 'B' 14.0 7.0 'Female']\n",
            " ['Prof' 'A' 29.0 27.0 'Female']\n",
            " ['AssocProf' 'A' 26.0 24.0 'Female']\n",
            " ['Prof' 'A' 36.0 19.0 'Female']\n",
            " ['AsstProf' 'A' 7.0 6.0 'Female']\n",
            " ['Prof' 'A' 17.0 11.0 'Female']\n",
            " ['AsstProf' 'A' 4.0 2.0 'Female']\n",
            " ['Prof' 'A' 28.0 7.0 'Female']\n",
            " ['AsstProf' 'A' 8.0 3.0 'Female']\n",
            " ['AssocProf' 'B' 12.0 9.0 'Female']\n",
            " ['Prof' 'B' 24.0 15.0 'Female']\n",
            " ['Prof' 'B' 18.0 10.0 'Female']\n",
            " ['AssocProf' 'B' 19.0 6.0 'Female']\n",
            " ['Prof' 'B' 17.0 17.0 'Female']\n",
            " ['Prof' 'A' 28.0 14.0 'Female']\n",
            " ['Prof' 'A' 23.0 15.0 'Female']]\n"
          ]
        }
      ]
    },
    {
      "cell_type": "code",
      "source": [
        "imputer2=SimpleImputer(missing_values=np.nan,strategy='constant',fill_value='0',verbose=0)"
      ],
      "metadata": {
        "id": "931wz5jMPfAO"
      },
      "execution_count": null,
      "outputs": []
    },
    {
      "cell_type": "code",
      "source": [
        "imputer2=imputer2.fit(x[:,0:2])"
      ],
      "metadata": {
        "id": "ISoTPjCuPoR6"
      },
      "execution_count": null,
      "outputs": []
    },
    {
      "cell_type": "code",
      "source": [
        "x[:,0:2]=imputer2.transform(x[:,0:2])"
      ],
      "metadata": {
        "id": "10mdAjtUQRy-"
      },
      "execution_count": null,
      "outputs": []
    },
    {
      "cell_type": "code",
      "source": [
        "print(x)"
      ],
      "metadata": {
        "colab": {
          "base_uri": "https://localhost:8080/"
        },
        "id": "dZF8nyxWP7up",
        "outputId": "458f6fd1-3394-48f4-e77c-43886b10c3af"
      },
      "execution_count": null,
      "outputs": [
        {
          "output_type": "stream",
          "name": "stdout",
          "text": [
            "[['Prof' 'B' 56.0 49.0 'Male']\n",
            " ['Prof' 'A' 12.0 6.0 'Male']\n",
            " ['Prof' 'A' 23.0 20.0 'Male']\n",
            " ['Prof' 'A' 40.0 31.0 'Male']\n",
            " ['Prof' 'B' 20.0 18.0 'Male']\n",
            " ['Prof' 'A' 20.0 20.0 'Male']\n",
            " ['AssocProf' 'A' 20.0 17.0 'Male']\n",
            " ['Prof' 'A' 18.0 18.0 'Male']\n",
            " ['Prof' 'A' 29.0 19.0 'Male']\n",
            " ['Prof' 'A' 51.0 51.0 'Male']\n",
            " ['Prof' 'B' 19.32894736842105 33.0 'Male']\n",
            " ['Prof' 'B' 23.0 23.0 'Male']\n",
            " ['AsstProf' 'B' 1.0 0.0 'Male']\n",
            " ['Prof' 'B' 35.0 33.0 'Male']\n",
            " ['Prof' 'B' 25.0 19.0 'Male']\n",
            " ['Prof' 'B' 17.0 15.207792207792208 'Male']\n",
            " ['AsstProf' 'B' 8.0 3.0 'Male']\n",
            " ['AsstProf' 'B' 4.0 0.0 nan]\n",
            " ['Prof' 'A' 19.0 7.0 'Male']\n",
            " ['Prof' 'A' 19.32894736842105 27.0 'Male']\n",
            " ['AsstProf' 'B' 4.0 4.0 'Male']\n",
            " ['Prof' '0' 33.0 30.0 'Male']\n",
            " ['AsstProf' 'A' 4.0 2.0 'Male']\n",
            " ['AsstProf' 'A' 2.0 0.0 'Male']\n",
            " ['0' 'A' 30.0 23.0 'Male']\n",
            " ['Prof' 'B' 35.0 31.0 'Male']\n",
            " ['Prof' 'A' 38.0 19.0 'Male']\n",
            " ['Prof' 'A' 45.0 43.0 'Male']\n",
            " ['AsstProf' '0' 7.0 2.0 'Male']\n",
            " ['Prof' 'B' 21.0 20.0 'Male']\n",
            " ['AssocProf' 'B' 9.0 7.0 'Male']\n",
            " ['Prof' 'B' 22.0 21.0 'Male']\n",
            " ['Prof' '0' 27.0 19.0 'Male']\n",
            " ['Prof' 'B' 18.0 18.0 'Male']\n",
            " ['0' 'B' 12.0 8.0 'Male']\n",
            " ['Prof' 'B' 28.0 23.0 'Male']\n",
            " ['Prof' 'B' 45.0 45.0 'Male']\n",
            " ['Prof' 'A' 20.0 8.0 'Male']\n",
            " ['AsstProf' 'B' 4.0 3.0 'Male']\n",
            " ['0' 'B' 18.0 18.0 'Female']\n",
            " ['Prof' 'A' 39.0 36.0 'Female']\n",
            " ['AssocProf' 'A' 13.0 8.0 'Female']\n",
            " ['0' 'B' 4.0 2.0 'Female']\n",
            " ['AsstProf' 'B' 5.0 0.0 'Female']\n",
            " ['Prof' 'B' 23.0 19.0 'Female']\n",
            " ['Prof' 'B' 25.0 25.0 'Female']\n",
            " ['AsstProf' 'B' 11.0 3.0 'Female']\n",
            " ['AssocProf' 'B' 11.0 11.0 'Female']\n",
            " ['Prof' 'B' 17.0 17.0 'Female']\n",
            " ['Prof' 'B' 17.0 18.0 'Female']\n",
            " ['AsstProf' 'B' 10.0 5.0 'Female']\n",
            " ['Prof' 'B' 20.0 14.0 'Female']\n",
            " ['Prof' 'A' 12.0 0.0 'Female']\n",
            " ['AsstProf' 'A' 5.0 3.0 'Female']\n",
            " ['AssocProf' 'A' 25.0 22.0 'Female']\n",
            " ['AsstProf' 'A' 2.0 0.0 'Female']\n",
            " ['AssocProf' 'A' 10.0 8.0 'Female']\n",
            " ['AsstProf' 'A' 3.0 1.0 'Female']\n",
            " ['Prof' 'B' 36.0 26.0 'Female']\n",
            " ['AssocProf' 'B' 12.0 10.0 'Female']\n",
            " ['AsstProf' 'B' 3.0 3.0 'Female']\n",
            " ['AssocProf' 'B' 13.0 10.0 'Female']\n",
            " ['AssocProf' 'B' 14.0 7.0 'Female']\n",
            " ['Prof' 'A' 29.0 27.0 'Female']\n",
            " ['AssocProf' 'A' 26.0 24.0 'Female']\n",
            " ['Prof' 'A' 36.0 19.0 'Female']\n",
            " ['AsstProf' 'A' 7.0 6.0 'Female']\n",
            " ['Prof' 'A' 17.0 11.0 'Female']\n",
            " ['AsstProf' 'A' 4.0 2.0 'Female']\n",
            " ['Prof' 'A' 28.0 7.0 'Female']\n",
            " ['AsstProf' 'A' 8.0 3.0 'Female']\n",
            " ['AssocProf' 'B' 12.0 9.0 'Female']\n",
            " ['Prof' 'B' 24.0 15.0 'Female']\n",
            " ['Prof' 'B' 18.0 10.0 'Female']\n",
            " ['AssocProf' 'B' 19.0 6.0 'Female']\n",
            " ['Prof' 'B' 17.0 17.0 'Female']\n",
            " ['Prof' 'A' 28.0 14.0 'Female']\n",
            " ['Prof' 'A' 23.0 15.0 'Female']]\n"
          ]
        }
      ]
    },
    {
      "cell_type": "code",
      "source": [
        "imputer3=SimpleImputer(missing_values=np.nan,strategy='constant',fill_value='0',verbose=0)\n",
        "imputer2=imputer2.fit(x[:,4:5])\n",
        "x[:,4:5]=imputer2.transform(x[:,4:5])\n",
        "print(x)"
      ],
      "metadata": {
        "colab": {
          "base_uri": "https://localhost:8080/"
        },
        "id": "A7vk68TuTloo",
        "outputId": "f3370ab6-0e50-49a9-e04d-fd19eccd98c6"
      },
      "execution_count": null,
      "outputs": [
        {
          "output_type": "stream",
          "name": "stdout",
          "text": [
            "[['Male' 'Male' 56.0 49.0 'Male']\n",
            " ['Male' 'Male' 12.0 6.0 'Male']\n",
            " ['Male' 'Male' 23.0 20.0 'Male']\n",
            " ['Male' 'Male' 40.0 31.0 'Male']\n",
            " ['Male' 'Male' 20.0 18.0 'Male']\n",
            " ['Male' 'Male' 20.0 20.0 'Male']\n",
            " ['Male' 'Male' 20.0 17.0 'Male']\n",
            " ['Male' 'Male' 18.0 18.0 'Male']\n",
            " ['Male' 'Male' 29.0 19.0 'Male']\n",
            " ['Male' 'Male' 51.0 51.0 'Male']\n",
            " ['Male' 'Male' 19.32894736842105 33.0 'Male']\n",
            " ['Male' 'Male' 23.0 23.0 'Male']\n",
            " ['Male' 'Male' 1.0 0.0 'Male']\n",
            " ['Male' 'Male' 35.0 33.0 'Male']\n",
            " ['Male' 'Male' 25.0 19.0 'Male']\n",
            " ['Male' 'Male' 17.0 15.207792207792208 'Male']\n",
            " ['Male' 'Male' 8.0 3.0 'Male']\n",
            " ['0' '0' 4.0 0.0 '0']\n",
            " ['Male' 'Male' 19.0 7.0 'Male']\n",
            " ['Male' 'Male' 19.32894736842105 27.0 'Male']\n",
            " ['Male' 'Male' 4.0 4.0 'Male']\n",
            " ['Male' 'Male' 33.0 30.0 'Male']\n",
            " ['Male' 'Male' 4.0 2.0 'Male']\n",
            " ['Male' 'Male' 2.0 0.0 'Male']\n",
            " ['Male' 'Male' 30.0 23.0 'Male']\n",
            " ['Male' 'Male' 35.0 31.0 'Male']\n",
            " ['Male' 'Male' 38.0 19.0 'Male']\n",
            " ['Male' 'Male' 45.0 43.0 'Male']\n",
            " ['Male' 'Male' 7.0 2.0 'Male']\n",
            " ['Male' 'Male' 21.0 20.0 'Male']\n",
            " ['Male' 'Male' 9.0 7.0 'Male']\n",
            " ['Male' 'Male' 22.0 21.0 'Male']\n",
            " ['Male' 'Male' 27.0 19.0 'Male']\n",
            " ['Male' 'Male' 18.0 18.0 'Male']\n",
            " ['Male' 'Male' 12.0 8.0 'Male']\n",
            " ['Male' 'Male' 28.0 23.0 'Male']\n",
            " ['Male' 'Male' 45.0 45.0 'Male']\n",
            " ['Male' 'Male' 20.0 8.0 'Male']\n",
            " ['Male' 'Male' 4.0 3.0 'Male']\n",
            " ['Female' 'Female' 18.0 18.0 'Female']\n",
            " ['Female' 'Female' 39.0 36.0 'Female']\n",
            " ['Female' 'Female' 13.0 8.0 'Female']\n",
            " ['Female' 'Female' 4.0 2.0 'Female']\n",
            " ['Female' 'Female' 5.0 0.0 'Female']\n",
            " ['Female' 'Female' 23.0 19.0 'Female']\n",
            " ['Female' 'Female' 25.0 25.0 'Female']\n",
            " ['Female' 'Female' 11.0 3.0 'Female']\n",
            " ['Female' 'Female' 11.0 11.0 'Female']\n",
            " ['Female' 'Female' 17.0 17.0 'Female']\n",
            " ['Female' 'Female' 17.0 18.0 'Female']\n",
            " ['Female' 'Female' 10.0 5.0 'Female']\n",
            " ['Female' 'Female' 20.0 14.0 'Female']\n",
            " ['Female' 'Female' 12.0 0.0 'Female']\n",
            " ['Female' 'Female' 5.0 3.0 'Female']\n",
            " ['Female' 'Female' 25.0 22.0 'Female']\n",
            " ['Female' 'Female' 2.0 0.0 'Female']\n",
            " ['Female' 'Female' 10.0 8.0 'Female']\n",
            " ['Female' 'Female' 3.0 1.0 'Female']\n",
            " ['Female' 'Female' 36.0 26.0 'Female']\n",
            " ['Female' 'Female' 12.0 10.0 'Female']\n",
            " ['Female' 'Female' 3.0 3.0 'Female']\n",
            " ['Female' 'Female' 13.0 10.0 'Female']\n",
            " ['Female' 'Female' 14.0 7.0 'Female']\n",
            " ['Female' 'Female' 29.0 27.0 'Female']\n",
            " ['Female' 'Female' 26.0 24.0 'Female']\n",
            " ['Female' 'Female' 36.0 19.0 'Female']\n",
            " ['Female' 'Female' 7.0 6.0 'Female']\n",
            " ['Female' 'Female' 17.0 11.0 'Female']\n",
            " ['Female' 'Female' 4.0 2.0 'Female']\n",
            " ['Female' 'Female' 28.0 7.0 'Female']\n",
            " ['Female' 'Female' 8.0 3.0 'Female']\n",
            " ['Female' 'Female' 12.0 9.0 'Female']\n",
            " ['Female' 'Female' 24.0 15.0 'Female']\n",
            " ['Female' 'Female' 18.0 10.0 'Female']\n",
            " ['Female' 'Female' 19.0 6.0 'Female']\n",
            " ['Female' 'Female' 17.0 17.0 'Female']\n",
            " ['Female' 'Female' 28.0 14.0 'Female']\n",
            " ['Female' 'Female' 23.0 15.0 'Female']]\n"
          ]
        }
      ]
    },
    {
      "cell_type": "code",
      "source": [
        "from sklearn import preprocessing\n",
        "from sklearn.preprocessing import LabelEncoder,OneHotEncoder\n",
        "from sklearn.compose import ColumnTransformer\n",
        "one_hotencoder=preprocessing.OneHotEncoder(sparse=False)\n",
        "x=one_hotencoder.fit_transform(x) \n",
        "print(x)"
      ],
      "metadata": {
        "colab": {
          "base_uri": "https://localhost:8080/"
        },
        "id": "WECHQLlaURPW",
        "outputId": "12b0c563-d52e-49d5-8e6a-c54e600357ec"
      },
      "execution_count": null,
      "outputs": [
        {
          "output_type": "stream",
          "name": "stdout",
          "text": [
            "[[0. 0. 1. ... 0. 0. 1.]\n",
            " [0. 0. 1. ... 0. 0. 1.]\n",
            " [0. 0. 1. ... 0. 0. 1.]\n",
            " ...\n",
            " [0. 1. 0. ... 0. 1. 0.]\n",
            " [0. 1. 0. ... 0. 1. 0.]\n",
            " [0. 1. 0. ... 0. 1. 0.]]\n"
          ]
        }
      ]
    }
  ]
}