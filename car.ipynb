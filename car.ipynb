{
  "nbformat": 4,
  "nbformat_minor": 0,
  "metadata": {
    "colab": {
      "name": "car.ipynb",
      "provenance": [],
      "authorship_tag": "ABX9TyMq8dVI56QUVMffZeSrkgBc",
      "include_colab_link": true
    },
    "kernelspec": {
      "name": "python3",
      "display_name": "Python 3"
    },
    "language_info": {
      "name": "python"
    }
  },
  "cells": [
    {
      "cell_type": "markdown",
      "metadata": {
        "id": "view-in-github",
        "colab_type": "text"
      },
      "source": [
        "<a href=\"https://colab.research.google.com/github/PranavSagar/ML_dataset/blob/main/car.ipynb\" target=\"_parent\"><img src=\"https://colab.research.google.com/assets/colab-badge.svg\" alt=\"Open In Colab\"/></a>"
      ]
    },
    {
      "cell_type": "code",
      "execution_count": 41,
      "metadata": {
        "id": "PbACznUse_BB"
      },
      "outputs": [],
      "source": [
        "import numpy as np\n",
        "import pandas as pd"
      ]
    },
    {
      "cell_type": "code",
      "source": [
        "#raw file link from github\n",
        "url = 'https://raw.githubusercontent.com/PranavSagar/ML_dataset/main/Car%20details%20v3.csv'"
      ],
      "metadata": {
        "id": "RuJmjzdIfdoo"
      },
      "execution_count": 42,
      "outputs": []
    },
    {
      "cell_type": "code",
      "source": [
        "#importing csv file\n",
        "df = pd.read_csv(url)"
      ],
      "metadata": {
        "id": "YZUsDivHfsCl"
      },
      "execution_count": 43,
      "outputs": []
    },
    {
      "cell_type": "code",
      "source": [
        "#printing dataset for once\n",
        "print(df)"
      ],
      "metadata": {
        "colab": {
          "base_uri": "https://localhost:8080/",
          "height": 0
        },
        "id": "bdACI9axfyjr",
        "outputId": "8a455806-408c-4390-bd48-556610dea5be"
      },
      "execution_count": 44,
      "outputs": [
        {
          "output_type": "stream",
          "name": "stdout",
          "text": [
            "                              name  year  selling_price  km_driven    fuel  \\\n",
            "0           Maruti Swift Dzire VDI  2014         450000     145500  Diesel   \n",
            "1     Skoda Rapid 1.5 TDI Ambition  2014         370000     120000  Diesel   \n",
            "2         Honda City 2017-2020 EXi  2006         158000     140000  Petrol   \n",
            "3        Hyundai i20 Sportz Diesel  2010         225000     127000  Diesel   \n",
            "4           Maruti Swift VXI BSIII  2007         130000     120000  Petrol   \n",
            "...                            ...   ...            ...        ...     ...   \n",
            "8123             Hyundai i20 Magna  2013         320000     110000  Petrol   \n",
            "8124         Hyundai Verna CRDi SX  2007         135000     119000  Diesel   \n",
            "8125        Maruti Swift Dzire ZDi  2009         382000     120000  Diesel   \n",
            "8126               Tata Indigo CR4  2013         290000      25000  Diesel   \n",
            "8127               Tata Indigo CR4  2013         290000      25000  Diesel   \n",
            "\n",
            "     seller_type transmission                 owner     mileage   engine  \\\n",
            "0     Individual       Manual           First Owner   23.4 kmpl  1248 CC   \n",
            "1     Individual       Manual          Second Owner  21.14 kmpl  1498 CC   \n",
            "2     Individual       Manual           Third Owner   17.7 kmpl  1497 CC   \n",
            "3     Individual       Manual           First Owner   23.0 kmpl  1396 CC   \n",
            "4     Individual       Manual           First Owner   16.1 kmpl  1298 CC   \n",
            "...          ...          ...                   ...         ...      ...   \n",
            "8123  Individual       Manual           First Owner   18.5 kmpl  1197 CC   \n",
            "8124  Individual       Manual  Fourth & Above Owner   16.8 kmpl  1493 CC   \n",
            "8125  Individual       Manual           First Owner   19.3 kmpl  1248 CC   \n",
            "8126  Individual       Manual           First Owner  23.57 kmpl  1396 CC   \n",
            "8127  Individual       Manual           First Owner  23.57 kmpl  1396 CC   \n",
            "\n",
            "       max_power                     torque  seats  \n",
            "0         74 bhp             190Nm@ 2000rpm    5.0  \n",
            "1     103.52 bhp        250Nm@ 1500-2500rpm    5.0  \n",
            "2         78 bhp      12.7@ 2,700(kgm@ rpm)    5.0  \n",
            "3         90 bhp   22.4 kgm at 1750-2750rpm    5.0  \n",
            "4       88.2 bhp      11.5@ 4,500(kgm@ rpm)    5.0  \n",
            "...          ...                        ...    ...  \n",
            "8123   82.85 bhp           113.7Nm@ 4000rpm    5.0  \n",
            "8124     110 bhp  24@ 1,900-2,750(kgm@ rpm)    5.0  \n",
            "8125    73.9 bhp             190Nm@ 2000rpm    5.0  \n",
            "8126      70 bhp        140Nm@ 1800-3000rpm    5.0  \n",
            "8127      70 bhp        140Nm@ 1800-3000rpm    5.0  \n",
            "\n",
            "[8128 rows x 13 columns]\n"
          ]
        }
      ]
    },
    {
      "cell_type": "code",
      "source": [
        "#checking for number of rows and column\n",
        "print(df.shape)\n",
        "print(df.size)"
      ],
      "metadata": {
        "colab": {
          "base_uri": "https://localhost:8080/",
          "height": 0
        },
        "id": "fLxHb7Ocg15U",
        "outputId": "5bcb0743-6171-466e-8eef-878e18a186d6"
      },
      "execution_count": 45,
      "outputs": [
        {
          "output_type": "stream",
          "name": "stdout",
          "text": [
            "(8128, 13)\n",
            "105664\n"
          ]
        }
      ]
    },
    {
      "cell_type": "code",
      "source": [
        "#if any data row is completely empty then it will drop that row cause such data will never help us\n",
        "df.dropna(axis = 'index',how='all')"
      ],
      "metadata": {
        "colab": {
          "base_uri": "https://localhost:8080/",
          "height": 641
        },
        "id": "b8vGorxrrgLA",
        "outputId": "900c773a-7df7-443e-cf46-7d7c8a98a039"
      },
      "execution_count": 46,
      "outputs": [
        {
          "output_type": "execute_result",
          "data": {
            "text/plain": [
              "                              name  year  selling_price  km_driven    fuel  \\\n",
              "0           Maruti Swift Dzire VDI  2014         450000     145500  Diesel   \n",
              "1     Skoda Rapid 1.5 TDI Ambition  2014         370000     120000  Diesel   \n",
              "2         Honda City 2017-2020 EXi  2006         158000     140000  Petrol   \n",
              "3        Hyundai i20 Sportz Diesel  2010         225000     127000  Diesel   \n",
              "4           Maruti Swift VXI BSIII  2007         130000     120000  Petrol   \n",
              "...                            ...   ...            ...        ...     ...   \n",
              "8123             Hyundai i20 Magna  2013         320000     110000  Petrol   \n",
              "8124         Hyundai Verna CRDi SX  2007         135000     119000  Diesel   \n",
              "8125        Maruti Swift Dzire ZDi  2009         382000     120000  Diesel   \n",
              "8126               Tata Indigo CR4  2013         290000      25000  Diesel   \n",
              "8127               Tata Indigo CR4  2013         290000      25000  Diesel   \n",
              "\n",
              "     seller_type transmission                 owner     mileage   engine  \\\n",
              "0     Individual       Manual           First Owner   23.4 kmpl  1248 CC   \n",
              "1     Individual       Manual          Second Owner  21.14 kmpl  1498 CC   \n",
              "2     Individual       Manual           Third Owner   17.7 kmpl  1497 CC   \n",
              "3     Individual       Manual           First Owner   23.0 kmpl  1396 CC   \n",
              "4     Individual       Manual           First Owner   16.1 kmpl  1298 CC   \n",
              "...          ...          ...                   ...         ...      ...   \n",
              "8123  Individual       Manual           First Owner   18.5 kmpl  1197 CC   \n",
              "8124  Individual       Manual  Fourth & Above Owner   16.8 kmpl  1493 CC   \n",
              "8125  Individual       Manual           First Owner   19.3 kmpl  1248 CC   \n",
              "8126  Individual       Manual           First Owner  23.57 kmpl  1396 CC   \n",
              "8127  Individual       Manual           First Owner  23.57 kmpl  1396 CC   \n",
              "\n",
              "       max_power                     torque  seats  \n",
              "0         74 bhp             190Nm@ 2000rpm    5.0  \n",
              "1     103.52 bhp        250Nm@ 1500-2500rpm    5.0  \n",
              "2         78 bhp      12.7@ 2,700(kgm@ rpm)    5.0  \n",
              "3         90 bhp   22.4 kgm at 1750-2750rpm    5.0  \n",
              "4       88.2 bhp      11.5@ 4,500(kgm@ rpm)    5.0  \n",
              "...          ...                        ...    ...  \n",
              "8123   82.85 bhp           113.7Nm@ 4000rpm    5.0  \n",
              "8124     110 bhp  24@ 1,900-2,750(kgm@ rpm)    5.0  \n",
              "8125    73.9 bhp             190Nm@ 2000rpm    5.0  \n",
              "8126      70 bhp        140Nm@ 1800-3000rpm    5.0  \n",
              "8127      70 bhp        140Nm@ 1800-3000rpm    5.0  \n",
              "\n",
              "[8128 rows x 13 columns]"
            ],
            "text/html": [
              "\n",
              "  <div id=\"df-87944bfe-ff99-4a3b-8d07-c0e4ce36e04c\">\n",
              "    <div class=\"colab-df-container\">\n",
              "      <div>\n",
              "<style scoped>\n",
              "    .dataframe tbody tr th:only-of-type {\n",
              "        vertical-align: middle;\n",
              "    }\n",
              "\n",
              "    .dataframe tbody tr th {\n",
              "        vertical-align: top;\n",
              "    }\n",
              "\n",
              "    .dataframe thead th {\n",
              "        text-align: right;\n",
              "    }\n",
              "</style>\n",
              "<table border=\"1\" class=\"dataframe\">\n",
              "  <thead>\n",
              "    <tr style=\"text-align: right;\">\n",
              "      <th></th>\n",
              "      <th>name</th>\n",
              "      <th>year</th>\n",
              "      <th>selling_price</th>\n",
              "      <th>km_driven</th>\n",
              "      <th>fuel</th>\n",
              "      <th>seller_type</th>\n",
              "      <th>transmission</th>\n",
              "      <th>owner</th>\n",
              "      <th>mileage</th>\n",
              "      <th>engine</th>\n",
              "      <th>max_power</th>\n",
              "      <th>torque</th>\n",
              "      <th>seats</th>\n",
              "    </tr>\n",
              "  </thead>\n",
              "  <tbody>\n",
              "    <tr>\n",
              "      <th>0</th>\n",
              "      <td>Maruti Swift Dzire VDI</td>\n",
              "      <td>2014</td>\n",
              "      <td>450000</td>\n",
              "      <td>145500</td>\n",
              "      <td>Diesel</td>\n",
              "      <td>Individual</td>\n",
              "      <td>Manual</td>\n",
              "      <td>First Owner</td>\n",
              "      <td>23.4 kmpl</td>\n",
              "      <td>1248 CC</td>\n",
              "      <td>74 bhp</td>\n",
              "      <td>190Nm@ 2000rpm</td>\n",
              "      <td>5.0</td>\n",
              "    </tr>\n",
              "    <tr>\n",
              "      <th>1</th>\n",
              "      <td>Skoda Rapid 1.5 TDI Ambition</td>\n",
              "      <td>2014</td>\n",
              "      <td>370000</td>\n",
              "      <td>120000</td>\n",
              "      <td>Diesel</td>\n",
              "      <td>Individual</td>\n",
              "      <td>Manual</td>\n",
              "      <td>Second Owner</td>\n",
              "      <td>21.14 kmpl</td>\n",
              "      <td>1498 CC</td>\n",
              "      <td>103.52 bhp</td>\n",
              "      <td>250Nm@ 1500-2500rpm</td>\n",
              "      <td>5.0</td>\n",
              "    </tr>\n",
              "    <tr>\n",
              "      <th>2</th>\n",
              "      <td>Honda City 2017-2020 EXi</td>\n",
              "      <td>2006</td>\n",
              "      <td>158000</td>\n",
              "      <td>140000</td>\n",
              "      <td>Petrol</td>\n",
              "      <td>Individual</td>\n",
              "      <td>Manual</td>\n",
              "      <td>Third Owner</td>\n",
              "      <td>17.7 kmpl</td>\n",
              "      <td>1497 CC</td>\n",
              "      <td>78 bhp</td>\n",
              "      <td>12.7@ 2,700(kgm@ rpm)</td>\n",
              "      <td>5.0</td>\n",
              "    </tr>\n",
              "    <tr>\n",
              "      <th>3</th>\n",
              "      <td>Hyundai i20 Sportz Diesel</td>\n",
              "      <td>2010</td>\n",
              "      <td>225000</td>\n",
              "      <td>127000</td>\n",
              "      <td>Diesel</td>\n",
              "      <td>Individual</td>\n",
              "      <td>Manual</td>\n",
              "      <td>First Owner</td>\n",
              "      <td>23.0 kmpl</td>\n",
              "      <td>1396 CC</td>\n",
              "      <td>90 bhp</td>\n",
              "      <td>22.4 kgm at 1750-2750rpm</td>\n",
              "      <td>5.0</td>\n",
              "    </tr>\n",
              "    <tr>\n",
              "      <th>4</th>\n",
              "      <td>Maruti Swift VXI BSIII</td>\n",
              "      <td>2007</td>\n",
              "      <td>130000</td>\n",
              "      <td>120000</td>\n",
              "      <td>Petrol</td>\n",
              "      <td>Individual</td>\n",
              "      <td>Manual</td>\n",
              "      <td>First Owner</td>\n",
              "      <td>16.1 kmpl</td>\n",
              "      <td>1298 CC</td>\n",
              "      <td>88.2 bhp</td>\n",
              "      <td>11.5@ 4,500(kgm@ rpm)</td>\n",
              "      <td>5.0</td>\n",
              "    </tr>\n",
              "    <tr>\n",
              "      <th>...</th>\n",
              "      <td>...</td>\n",
              "      <td>...</td>\n",
              "      <td>...</td>\n",
              "      <td>...</td>\n",
              "      <td>...</td>\n",
              "      <td>...</td>\n",
              "      <td>...</td>\n",
              "      <td>...</td>\n",
              "      <td>...</td>\n",
              "      <td>...</td>\n",
              "      <td>...</td>\n",
              "      <td>...</td>\n",
              "      <td>...</td>\n",
              "    </tr>\n",
              "    <tr>\n",
              "      <th>8123</th>\n",
              "      <td>Hyundai i20 Magna</td>\n",
              "      <td>2013</td>\n",
              "      <td>320000</td>\n",
              "      <td>110000</td>\n",
              "      <td>Petrol</td>\n",
              "      <td>Individual</td>\n",
              "      <td>Manual</td>\n",
              "      <td>First Owner</td>\n",
              "      <td>18.5 kmpl</td>\n",
              "      <td>1197 CC</td>\n",
              "      <td>82.85 bhp</td>\n",
              "      <td>113.7Nm@ 4000rpm</td>\n",
              "      <td>5.0</td>\n",
              "    </tr>\n",
              "    <tr>\n",
              "      <th>8124</th>\n",
              "      <td>Hyundai Verna CRDi SX</td>\n",
              "      <td>2007</td>\n",
              "      <td>135000</td>\n",
              "      <td>119000</td>\n",
              "      <td>Diesel</td>\n",
              "      <td>Individual</td>\n",
              "      <td>Manual</td>\n",
              "      <td>Fourth &amp; Above Owner</td>\n",
              "      <td>16.8 kmpl</td>\n",
              "      <td>1493 CC</td>\n",
              "      <td>110 bhp</td>\n",
              "      <td>24@ 1,900-2,750(kgm@ rpm)</td>\n",
              "      <td>5.0</td>\n",
              "    </tr>\n",
              "    <tr>\n",
              "      <th>8125</th>\n",
              "      <td>Maruti Swift Dzire ZDi</td>\n",
              "      <td>2009</td>\n",
              "      <td>382000</td>\n",
              "      <td>120000</td>\n",
              "      <td>Diesel</td>\n",
              "      <td>Individual</td>\n",
              "      <td>Manual</td>\n",
              "      <td>First Owner</td>\n",
              "      <td>19.3 kmpl</td>\n",
              "      <td>1248 CC</td>\n",
              "      <td>73.9 bhp</td>\n",
              "      <td>190Nm@ 2000rpm</td>\n",
              "      <td>5.0</td>\n",
              "    </tr>\n",
              "    <tr>\n",
              "      <th>8126</th>\n",
              "      <td>Tata Indigo CR4</td>\n",
              "      <td>2013</td>\n",
              "      <td>290000</td>\n",
              "      <td>25000</td>\n",
              "      <td>Diesel</td>\n",
              "      <td>Individual</td>\n",
              "      <td>Manual</td>\n",
              "      <td>First Owner</td>\n",
              "      <td>23.57 kmpl</td>\n",
              "      <td>1396 CC</td>\n",
              "      <td>70 bhp</td>\n",
              "      <td>140Nm@ 1800-3000rpm</td>\n",
              "      <td>5.0</td>\n",
              "    </tr>\n",
              "    <tr>\n",
              "      <th>8127</th>\n",
              "      <td>Tata Indigo CR4</td>\n",
              "      <td>2013</td>\n",
              "      <td>290000</td>\n",
              "      <td>25000</td>\n",
              "      <td>Diesel</td>\n",
              "      <td>Individual</td>\n",
              "      <td>Manual</td>\n",
              "      <td>First Owner</td>\n",
              "      <td>23.57 kmpl</td>\n",
              "      <td>1396 CC</td>\n",
              "      <td>70 bhp</td>\n",
              "      <td>140Nm@ 1800-3000rpm</td>\n",
              "      <td>5.0</td>\n",
              "    </tr>\n",
              "  </tbody>\n",
              "</table>\n",
              "<p>8128 rows × 13 columns</p>\n",
              "</div>\n",
              "      <button class=\"colab-df-convert\" onclick=\"convertToInteractive('df-87944bfe-ff99-4a3b-8d07-c0e4ce36e04c')\"\n",
              "              title=\"Convert this dataframe to an interactive table.\"\n",
              "              style=\"display:none;\">\n",
              "        \n",
              "  <svg xmlns=\"http://www.w3.org/2000/svg\" height=\"24px\"viewBox=\"0 0 24 24\"\n",
              "       width=\"24px\">\n",
              "    <path d=\"M0 0h24v24H0V0z\" fill=\"none\"/>\n",
              "    <path d=\"M18.56 5.44l.94 2.06.94-2.06 2.06-.94-2.06-.94-.94-2.06-.94 2.06-2.06.94zm-11 1L8.5 8.5l.94-2.06 2.06-.94-2.06-.94L8.5 2.5l-.94 2.06-2.06.94zm10 10l.94 2.06.94-2.06 2.06-.94-2.06-.94-.94-2.06-.94 2.06-2.06.94z\"/><path d=\"M17.41 7.96l-1.37-1.37c-.4-.4-.92-.59-1.43-.59-.52 0-1.04.2-1.43.59L10.3 9.45l-7.72 7.72c-.78.78-.78 2.05 0 2.83L4 21.41c.39.39.9.59 1.41.59.51 0 1.02-.2 1.41-.59l7.78-7.78 2.81-2.81c.8-.78.8-2.07 0-2.86zM5.41 20L4 18.59l7.72-7.72 1.47 1.35L5.41 20z\"/>\n",
              "  </svg>\n",
              "      </button>\n",
              "      \n",
              "  <style>\n",
              "    .colab-df-container {\n",
              "      display:flex;\n",
              "      flex-wrap:wrap;\n",
              "      gap: 12px;\n",
              "    }\n",
              "\n",
              "    .colab-df-convert {\n",
              "      background-color: #E8F0FE;\n",
              "      border: none;\n",
              "      border-radius: 50%;\n",
              "      cursor: pointer;\n",
              "      display: none;\n",
              "      fill: #1967D2;\n",
              "      height: 32px;\n",
              "      padding: 0 0 0 0;\n",
              "      width: 32px;\n",
              "    }\n",
              "\n",
              "    .colab-df-convert:hover {\n",
              "      background-color: #E2EBFA;\n",
              "      box-shadow: 0px 1px 2px rgba(60, 64, 67, 0.3), 0px 1px 3px 1px rgba(60, 64, 67, 0.15);\n",
              "      fill: #174EA6;\n",
              "    }\n",
              "\n",
              "    [theme=dark] .colab-df-convert {\n",
              "      background-color: #3B4455;\n",
              "      fill: #D2E3FC;\n",
              "    }\n",
              "\n",
              "    [theme=dark] .colab-df-convert:hover {\n",
              "      background-color: #434B5C;\n",
              "      box-shadow: 0px 1px 3px 1px rgba(0, 0, 0, 0.15);\n",
              "      filter: drop-shadow(0px 1px 2px rgba(0, 0, 0, 0.3));\n",
              "      fill: #FFFFFF;\n",
              "    }\n",
              "  </style>\n",
              "\n",
              "      <script>\n",
              "        const buttonEl =\n",
              "          document.querySelector('#df-87944bfe-ff99-4a3b-8d07-c0e4ce36e04c button.colab-df-convert');\n",
              "        buttonEl.style.display =\n",
              "          google.colab.kernel.accessAllowed ? 'block' : 'none';\n",
              "\n",
              "        async function convertToInteractive(key) {\n",
              "          const element = document.querySelector('#df-87944bfe-ff99-4a3b-8d07-c0e4ce36e04c');\n",
              "          const dataTable =\n",
              "            await google.colab.kernel.invokeFunction('convertToInteractive',\n",
              "                                                     [key], {});\n",
              "          if (!dataTable) return;\n",
              "\n",
              "          const docLinkHtml = 'Like what you see? Visit the ' +\n",
              "            '<a target=\"_blank\" href=https://colab.research.google.com/notebooks/data_table.ipynb>data table notebook</a>'\n",
              "            + ' to learn more about interactive tables.';\n",
              "          element.innerHTML = '';\n",
              "          dataTable['output_type'] = 'display_data';\n",
              "          await google.colab.output.renderOutput(dataTable, element);\n",
              "          const docLink = document.createElement('div');\n",
              "          docLink.innerHTML = docLinkHtml;\n",
              "          element.appendChild(docLink);\n",
              "        }\n",
              "      </script>\n",
              "    </div>\n",
              "  </div>\n",
              "  "
            ]
          },
          "metadata": {},
          "execution_count": 46
        }
      ]
    },
    {
      "cell_type": "code",
      "source": [
        "#this will check if any of cell having null value and if yes and return the sum of such cell respective to their column\n",
        "print(df.isnull().sum()) "
      ],
      "metadata": {
        "colab": {
          "base_uri": "https://localhost:8080/",
          "height": 0
        },
        "id": "JuBSzSO-jrIf",
        "outputId": "51cfe3f2-8554-44fd-99ca-d9a6bab01cba"
      },
      "execution_count": 47,
      "outputs": [
        {
          "output_type": "stream",
          "name": "stdout",
          "text": [
            "name               0\n",
            "year               0\n",
            "selling_price      0\n",
            "km_driven          0\n",
            "fuel               0\n",
            "seller_type        0\n",
            "transmission       0\n",
            "owner              0\n",
            "mileage          221\n",
            "engine           221\n",
            "max_power        215\n",
            "torque           222\n",
            "seats            221\n",
            "dtype: int64\n"
          ]
        }
      ]
    },
    {
      "cell_type": "code",
      "source": [
        "types = df.dtypes\n",
        "print(types)"
      ],
      "metadata": {
        "colab": {
          "base_uri": "https://localhost:8080/",
          "height": 0
        },
        "id": "FK0aL5ZikTt5",
        "outputId": "db2e1a97-98e7-4e42-e6cd-57ae2fb5d2a4"
      },
      "execution_count": 48,
      "outputs": [
        {
          "output_type": "stream",
          "name": "stdout",
          "text": [
            "name              object\n",
            "year               int64\n",
            "selling_price      int64\n",
            "km_driven          int64\n",
            "fuel              object\n",
            "seller_type       object\n",
            "transmission      object\n",
            "owner             object\n",
            "mileage           object\n",
            "engine            object\n",
            "max_power         object\n",
            "torque            object\n",
            "seats            float64\n",
            "dtype: object\n"
          ]
        }
      ]
    },
    {
      "cell_type": "code",
      "source": [
        "#diving dataset into independent datset\n",
        "x=df.iloc[:,[0,1,3,4,5,6,7,8,9,10,11,12]].values\n",
        "print(x)"
      ],
      "metadata": {
        "colab": {
          "base_uri": "https://localhost:8080/",
          "height": 0
        },
        "id": "lRg9lVSWkayz",
        "outputId": "b5b64e3d-39d8-4ad8-ca23-8d8714086fd0"
      },
      "execution_count": 49,
      "outputs": [
        {
          "output_type": "stream",
          "name": "stdout",
          "text": [
            "[['Maruti Swift Dzire VDI' 2014 145500 ... '74 bhp' '190Nm@ 2000rpm' 5.0]\n",
            " ['Skoda Rapid 1.5 TDI Ambition' 2014 120000 ... '103.52 bhp'\n",
            "  '250Nm@ 1500-2500rpm' 5.0]\n",
            " ['Honda City 2017-2020 EXi' 2006 140000 ... '78 bhp'\n",
            "  '12.7@ 2,700(kgm@ rpm)' 5.0]\n",
            " ...\n",
            " ['Maruti Swift Dzire ZDi' 2009 120000 ... '73.9 bhp' '190Nm@ 2000rpm'\n",
            "  5.0]\n",
            " ['Tata Indigo CR4' 2013 25000 ... '70 bhp' '140Nm@ 1800-3000rpm' 5.0]\n",
            " ['Tata Indigo CR4' 2013 25000 ... '70 bhp' '140Nm@ 1800-3000rpm' 5.0]]\n"
          ]
        }
      ]
    },
    {
      "cell_type": "code",
      "source": [
        "#diving dataset into dependent datset\n",
        "y=df.iloc[:,2].values\n",
        "print(y)"
      ],
      "metadata": {
        "colab": {
          "base_uri": "https://localhost:8080/",
          "height": 0
        },
        "id": "NcsL45kEk749",
        "outputId": "4a9c76aa-6fc5-46cb-a61b-3b46e50536af"
      },
      "execution_count": 50,
      "outputs": [
        {
          "output_type": "stream",
          "name": "stdout",
          "text": [
            "[450000 370000 158000 ... 382000 290000 290000]\n"
          ]
        }
      ]
    },
    {
      "cell_type": "code",
      "source": [
        "class_count=df.groupby('selling_price').size()\n",
        "print(class_count)"
      ],
      "metadata": {
        "colab": {
          "base_uri": "https://localhost:8080/",
          "height": 0
        },
        "id": "ENKbXXI8mpoo",
        "outputId": "974032ef-e667-4245-80bf-430885a67f2d"
      },
      "execution_count": 51,
      "outputs": [
        {
          "output_type": "stream",
          "name": "stdout",
          "text": [
            "selling_price\n",
            "29999       1\n",
            "30000       2\n",
            "31000       1\n",
            "31504       1\n",
            "33351       1\n",
            "           ..\n",
            "6000000     6\n",
            "6223000     1\n",
            "6523000     1\n",
            "7200000     1\n",
            "10000000    1\n",
            "Length: 677, dtype: int64\n"
          ]
        }
      ]
    },
    {
      "cell_type": "code",
      "source": [
        "#putting 0 for string column having nan value\n",
        "from sklearn.impute import SimpleImputer\n",
        "imputer=SimpleImputer(missing_values=np.nan,strategy='constant',fill_value='0',verbose=0)\n",
        "imputer=imputer.fit(x[:,8:12])\n",
        "x[:,8:12]=imputer.transform(x[:,8:12])"
      ],
      "metadata": {
        "id": "n8OM_kZlg6-Z"
      },
      "execution_count": 54,
      "outputs": []
    },
    {
      "cell_type": "code",
      "source": [
        "print(x)"
      ],
      "metadata": {
        "colab": {
          "base_uri": "https://localhost:8080/",
          "height": 0
        },
        "id": "DfIwUWnIpr8a",
        "outputId": "f2d59b85-a118-44a7-ac92-b265e85b8617"
      },
      "execution_count": 53,
      "outputs": [
        {
          "output_type": "stream",
          "name": "stdout",
          "text": [
            "[['Maruti Swift Dzire VDI' 2014 145500 ... '74 bhp' '190Nm@ 2000rpm' 5.0]\n",
            " ['Skoda Rapid 1.5 TDI Ambition' 2014 120000 ... '103.52 bhp'\n",
            "  '250Nm@ 1500-2500rpm' 5.0]\n",
            " ['Honda City 2017-2020 EXi' 2006 140000 ... '78 bhp'\n",
            "  '12.7@ 2,700(kgm@ rpm)' 5.0]\n",
            " ...\n",
            " ['Maruti Swift Dzire ZDi' 2009 120000 ... '73.9 bhp' '190Nm@ 2000rpm'\n",
            "  5.0]\n",
            " ['Tata Indigo CR4' 2013 25000 ... '70 bhp' '140Nm@ 1800-3000rpm' 5.0]\n",
            " ['Tata Indigo CR4' 2013 25000 ... '70 bhp' '140Nm@ 1800-3000rpm' 5.0]]\n"
          ]
        }
      ]
    },
    {
      "cell_type": "code",
      "source": [
        "imputer2=SimpleImputer(missing_values=np.nan,strategy='mean',fill_value=None,verbose=0)\n",
        "imputer2=imputer2.fit(x[:,11:12])\n",
        "x[:,11:12]=imputer2.transform(x[:,11:12])\n",
        "print(x)"
      ],
      "metadata": {
        "colab": {
          "base_uri": "https://localhost:8080/",
          "height": 0
        },
        "id": "mWzOq0WAqCbZ",
        "outputId": "1a89b6fc-41ff-4cef-cc8b-6cddb7c387ed"
      },
      "execution_count": 57,
      "outputs": [
        {
          "output_type": "stream",
          "name": "stdout",
          "text": [
            "[['Maruti Swift Dzire VDI' 2014 145500 ... '74 bhp' '190Nm@ 2000rpm' 5.0]\n",
            " ['Skoda Rapid 1.5 TDI Ambition' 2014 120000 ... '103.52 bhp'\n",
            "  '250Nm@ 1500-2500rpm' 5.0]\n",
            " ['Honda City 2017-2020 EXi' 2006 140000 ... '78 bhp'\n",
            "  '12.7@ 2,700(kgm@ rpm)' 5.0]\n",
            " ...\n",
            " ['Maruti Swift Dzire ZDi' 2009 120000 ... '73.9 bhp' '190Nm@ 2000rpm'\n",
            "  5.0]\n",
            " ['Tata Indigo CR4' 2013 25000 ... '70 bhp' '140Nm@ 1800-3000rpm' 5.0]\n",
            " ['Tata Indigo CR4' 2013 25000 ... '70 bhp' '140Nm@ 1800-3000rpm' 5.0]]\n"
          ]
        }
      ]
    },
    {
      "cell_type": "code",
      "source": [
        "import matplotlib.pyplot as py\n",
        "from matplotlib import pyplot\n",
        "df.hist()\n",
        "py.show()"
      ],
      "metadata": {
        "colab": {
          "base_uri": "https://localhost:8080/",
          "height": 294
        },
        "id": "zCHlHDc2qB8h",
        "outputId": "a45de1cf-b1c6-4181-bd79-795cfacbf159"
      },
      "execution_count": 58,
      "outputs": [
        {
          "output_type": "display_data",
          "data": {
            "text/plain": [
              "<Figure size 432x288 with 4 Axes>"
            ],
            "image/png": "[encoded data removed]"
          },
          "metadata": {
            "needs_background": "light"
          }
        }
      ]
    },
    {
      "cell_type": "code",
      "source": [
        "df.plot(kind='density',subplots=True,layout=(3,3),sharex=False)\n",
        "py.show()"
      ],
      "metadata": {
        "colab": {
          "base_uri": "https://localhost:8080/",
          "height": 200
        },
        "id": "YrueoRp5xp36",
        "outputId": "3d76c3ba-5957-4ac1-b145-845a885350c2"
      },
      "execution_count": 59,
      "outputs": [
        {
          "output_type": "display_data",
          "data": {
            "text/plain": [
              "<Figure size 432x288 with 9 Axes>"
            ],
            "image/png": "[encoded data removed]"
          },
          "metadata": {
            "needs_background": "light"
          }
        }
      ]
    }
  ]
}